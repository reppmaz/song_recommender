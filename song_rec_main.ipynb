{
 "cells": [
  {
   "cell_type": "code",
   "execution_count": 33,
   "id": "8b17075e-6fee-4e04-bb97-1737ffda1f61",
   "metadata": {},
   "outputs": [],
   "source": [
    "from bs4 import BeautifulSoup\n",
    "import requests\n",
    "import pandas as pd\n",
    "import random\n",
    "from fuzzywuzzy import fuzz, process\n",
    "from autocorrect import Speller\n",
    "from config import client_id, client_secret\n",
    "import spotipy\n",
    "from spotipy.oauth2 import SpotifyClientCredentials\n",
    "from IPython.display import IFrame\n",
    "import numpy as np\n",
    "from sklearn.preprocessing import MinMaxScaler\n",
    "from sklearn.cluster import KMeans, AgglomerativeClustering, DBSCAN\n",
    "from sklearn import cluster\n",
    "from sklearn.metrics import silhouette_samples, silhouette_score, calinski_harabasz_score, davies_bouldin_score\n",
    "from scipy.cluster.hierarchy import dendrogram, linkage\n",
    "import plotly.express as px\n",
    "import matplotlib.pyplot as plt\n",
    "import pickle\n",
    "import re\n",
    "\n",
    "spell = Speller()"
   ]
  },
  {
   "cell_type": "markdown",
   "id": "dddd86c4-3425-427e-b671-f3e90ef2f629",
   "metadata": {},
   "source": [
    "- Install necessary libraries and create a Spotify developer account (if not done).\n",
    "- Create a DataFrame with the top 100 songs and respective artists by scraping the website Billboard Hot 100.\n",
    "- The DataFrame should have 2 columns: song_title, artist."
   ]
  },
  {
   "cell_type": "code",
   "execution_count": 7,
   "id": "ac973231-ef40-4aec-a3ec-2cd2eb185bee",
   "metadata": {},
   "outputs": [
    {
     "name": "stdout",
     "output_type": "stream",
     "text": [
      "<Response [200]>\n"
     ]
    }
   ],
   "source": [
    "# scraping top 100 from billboard\n",
    "url = \"https://www.billboard.com/charts/hot-100/\"\n",
    "response = requests.get(url)\n",
    "print(response)\n",
    "\n",
    "soup = BeautifulSoup(response.content, \"html.parser\")\n",
    "\n",
    "titles = []\n",
    "for title in soup.find_all(class_ = 'o-chart-results-list-row-container'):\n",
    "   titles.append(title.h3.get_text(strip = True))\n",
    "\n",
    "artists = []\n",
    "for artist in soup.find_all(class_ = 'o-chart-results-list-row-container'):\n",
    "    artists.append(artist.h3.find_next('span').get_text(strip = True))\n",
    "\n",
    "top_100 = pd.DataFrame({'song_title':titles, 'artist':artists})\n",
    "top_100.to_csv(\"/Users/reppmazc/Documents/IRONHACK/quests/song_recommender/top_100.csv\")"
   ]
  },
  {
   "cell_type": "markdown",
   "id": "d4af1293-fe4b-4e08-8076-fc48bc61194a",
   "metadata": {},
   "source": [
    "- Using the Spotipy library, create a DataFrame storing the audio_features of at least 1000 songs.\n",
    "- The more diverse your playlist, the better the end result will be!"
   ]
  },
  {
   "cell_type": "code",
   "execution_count": 5,
   "id": "2a5aca62-4962-4631-a743-f424580e77ff",
   "metadata": {},
   "outputs": [],
   "source": [
    "#Initialize SpotiPy with user credentials\n",
    "sp = spotipy.Spotify(auth_manager=SpotifyClientCredentials(client_id=client_id, client_secret=client_secret))"
   ]
  },
  {
   "cell_type": "code",
   "execution_count": 6,
   "id": "20a9cc40-9d02-434f-9711-8ff6db98ff1f",
   "metadata": {},
   "outputs": [],
   "source": [
    "playlist_1 = sp.user_playlist_tracks(\"spotify\", \"37i9dQZF1DXcBWIGoYBM5M\") # Today's Top Hits\n",
    "playlist_2 = sp.user_playlist_tracks(\"spotify\", \"6vDGVr652ztNWKZuHvsFvx\") # Deep House 2023\n",
    "playlist_3 = sp.user_playlist_tracks(\"spotify\", \"72GgLgQ63eUHG3CyCv42Ju\") # Pop Punk Powerhouses\n",
    "playlist_4 = sp.user_playlist_tracks(\"spotify\", \"37i9dQZF1DX8FwnYE6PRvL\") # Rock Party\n",
    "playlist_5 = sp.user_playlist_tracks(\"spotify\", \"37i9dQZEVXbMDoHDwVN2tF\") # Top 50 Global\n",
    "playlist_6 = sp.user_playlist_tracks(\"spotify\", \"37i9dQZF1DWYN9NBqvY7Tx\") # Ultra Gaming\n",
    "playlist_7 = sp.user_playlist_tracks(\"spotify\", \"37i9dQZF1DXe6bgV3TmZOL\") # Adrenaline Workout\n",
    "playlist_8 = sp.user_playlist_tracks(\"spotify\", \"37i9dQZF1DWWQRwui0ExPn\") # Lofi Beats\n",
    "playlist_9 = sp.user_playlist_tracks(\"spotify\", \"37i9dQZF1DWYnwbYQ5HnZU\") # Country Gold\n",
    "playlist_10 = sp.user_playlist_tracks(\"spotify\", \"37i9dQZF1DXcF6B6QPhFDv\") # Rock This\n",
    "playlist_11 = sp.user_playlist_tracks(\"spotify\", \"37i9dQZF1DWWOaP4H0w5b0\") # Metal Essentials\n",
    "playlist_12 = sp.user_playlist_tracks(\"spotify\", \"37i9dQZF1DX0XUsuxWHRQd\") # RapCaviar\n",
    "playlist_13 = sp.user_playlist_tracks(\"spotify\", \"37i9dQZF1EIgM5iO4YYPuD\") # Dance Party Mix\n",
    "playlist_14 = sp.user_playlist_tracks(\"spotify\", \"37i9dQZF1DX7FY5ma9162x\") # R&B Favourites\n",
    "playlist_15 = sp.user_playlist_tracks(\"spotify\", \"37i9dQZF1EIfIliH9h0OqJ\") # Afrobeats Mix\n",
    "playlist_16 = sp.user_playlist_tracks(\"spotify\", \"37i9dQZF1DX9loJQLuEvap\") # Great Female Voices\n",
    "playlist_17 = sp.user_playlist_tracks(\"spotify\", \"37i9dQZF1DWVTKDs2aOkxu\") # The Indie List\n",
    "playlist_18 = sp.user_playlist_tracks(\"spotify\", \"37i9dQZEVXbNG2KDcFcKOF\") #Top Songs - Global\n",
    "playlist_19 = sp.user_playlist_tracks(\"spotify\", \"2txcPaMg1XCYj5FGceAk07\") # Techno Remixes 2024 (Top 100)\n",
    "playlist_10 = sp.user_playlist_tracks(\"spotify\", \"5ABHKGoOzxkaa28ttQV9sE\") # Top 100 most streamed songs on Spotify\n",
    "playlist_21 = sp.user_playlist_tracks(\"spotify\", \"37i9dQZF1DX0SM0LYsmbMT\") # Jazz Vibes\n",
    "playlist_22 = sp.user_playlist_tracks(\"spotify\", \"1DSEi0lvLOzTiKqnaYZBDh\") # Classical Music bangers \n",
    "playlist_23 = sp.user_playlist_tracks(\"spotify\", \"37i9dQZF1DWTAam0w6i0dI\") # kpop\n",
    "playlist_24 = sp.user_playlist_tracks(\"spotify\", \"37i9dQZF1DX10zKzsJ2jva\") # latin\n",
    "playlist_25 = sp.user_playlist_tracks(\"spotify\", \"37i9dQZF1DX504r1DvyvxG\") # classic acoustic\n",
    "playlist_26 = sp.user_playlist_tracks(\"spotify\", \"37i9dQZF1DWVinJBuv0P4z\") # feel good classics\n",
    "playlist_27 = sp.user_playlist_tracks(\"spotify\", \"37i9dQZF1DX7KNKjOK0o75\") # have a great day\n",
    "playlist_28 = sp.user_playlist_tracks(\"spotify\", \"37i9dQZF1DXdmXczhgY3oW\") # oldies\n",
    "playlist_29 = sp.user_playlist_tracks(\"spotify\", \"37i9dQZF1DWXeOurMWUII5\") # Today's Top Hits\n",
    "playlist_30 = sp.user_playlist_tracks(\"spotify\", \"2otQLmbi8QWHjDfq3eL0DC\") # House\n",
    "playlist_31 = sp.user_playlist_tracks(\"spotify\", \"37i9dQZF1DXd6tJtr4qeot\") # Punk\n",
    "playlist_32 = sp.user_playlist_tracks(\"spotify\", \"37i9dQZF1EQpj7X7UK8OOF\") # Rock\n",
    "playlist_33 = sp.user_playlist_tracks(\"spotify\", \"37i9dQZF1DWZBCPUIUs2iR\") # County\n",
    "playlist_34 = sp.user_playlist_tracks(\"spotify\", \"37i9dQZF1EQpgT26jgbgRI\") # Metal\n",
    "playlist_35 = sp.user_playlist_tracks(\"spotify\", \"37i9dQZF1EQoqCH7BwIYb7\") # R&B\n",
    "playlist_36 = sp.user_playlist_tracks(\"spotify\", \"37i9dQZF1EIfIliH9h0OqJ\") # Afrobeats\n",
    "playlist_37 = sp.user_playlist_tracks(\"spotify\", \"37i9dQZF1EQqkOPvHGajmW\") # Indie\n",
    "playlist_38 = sp.user_playlist_tracks(\"spotify\", \"37i9dQZF1EQnqst5TRi17F\") # Hip Hop\n",
    "playlist_39 = sp.user_playlist_tracks(\"spotify\", \"37i9dQZF1DXbITWG1ZJKYt\") # Jazz\n",
    "playlist_40 = sp.user_playlist_tracks(\"spotify\", \"37i9dQZF1EQncLwOalG3K7\") # \n",
    "playlist_40 = sp.user_playlist_tracks(\"spotify\", \"37i9dQZF1EIhKhPuz9X9RP\") # jazz\n",
    "playlist_40 = sp.user_playlist_tracks(\"spotify\", \"37i9dQZF1DWYzTSrc7SiSZ\") # latin\n",
    "playlist_40 = sp.user_playlist_tracks(\"spotify\", \"37i9dQZF1EIcMbGxNGUuZo\") # r&b\n",
    "playlist_40 = sp.user_playlist_tracks(\"spotify\", \"37i9dQZF1EIehE24MT7gFU\") # pop\n",
    "playlist_40 = sp.user_playlist_tracks(\"spotify\", \"76iQv4c5qSM4AgvXph4rJu\") # punk\n",
    "playlist_40 = sp.user_playlist_tracks(\"spotify\", \"61jNo7WKLOIQkahju8i0hw\") # rock\n",
    "playlist_40 = sp.user_playlist_tracks(\"spotify\", \"37i9dQZF1DWTkxQvqMy4WW\") # country\n",
    "playlist_40 = sp.user_playlist_tracks(\"spotify\", \"37i9dQZF1DX4HvY8T59VN2\") # indie\n",
    "playlist_40 = sp.user_playlist_tracks(\"spotify\", \"37i9dQZF1DXbO6rt3GhXDY\") # indie pop\n",
    "playlist_40 = sp.user_playlist_tracks(\"spotify\", \"37i9dQZF1DWVdgXTbYm2r0\") # hip hop"
   ]
  },
  {
   "cell_type": "code",
   "execution_count": 7,
   "id": "13828c17-69b7-454e-8512-7ed92e45f01f",
   "metadata": {},
   "outputs": [],
   "source": [
    "playlist_ids = playlist_ids = [\"37i9dQZF1DXcBWIGoYBM5M\", \"6vDGVr652ztNWKZuHvsFvx\", \"72GgLgQ63eUHG3CyCv42Ju\",\n",
    "                               \"37i9dQZF1DX8FwnYE6PRvL\", \"37i9dQZEVXbMDoHDwVN2tF\", \"37i9dQZF1DWYN9NBqvY7Tx\",\n",
    "                               \"37i9dQZF1DXe6bgV3TmZOL\", \"37i9dQZF1DWWQRwui0ExPn\", \"37i9dQZF1DWYnwbYQ5HnZU\",\n",
    "                               \"37i9dQZF1DXcF6B6QPhFDv\", \"37i9dQZF1DWWOaP4H0w5b0\", \"37i9dQZF1DX0XUsuxWHRQd\",\n",
    "                               \"37i9dQZF1EIgM5iO4YYPuD\", \"37i9dQZF1DX7FY5ma9162x\", \"37i9dQZF1EIfIliH9h0OqJ\",\n",
    "                               \"37i9dQZF1DX9loJQLuEvap\", \"37i9dQZF1DWVTKDs2aOkxu\", \"37i9dQZEVXbNG2KDcFcKOF\",\n",
    "                               \"2txcPaMg1XCYj5FGceAk07\", \"5ABHKGoOzxkaa28ttQV9sE\", \"37i9dQZF1DX0SM0LYsmbMT\",\n",
    "                               \"1DSEi0lvLOzTiKqnaYZBDh\", \"37i9dQZF1DWTAam0w6i0dI\", \"37i9dQZF1DX10zKzsJ2jva\",\n",
    "                               \"37i9dQZF1DX504r1DvyvxG\", \"37i9dQZF1DWVinJBuv0P4z\", \"37i9dQZF1DX7KNKjOK0o75\",\n",
    "                               \"37i9dQZF1DXdmXczhgY3oW\", \"37i9dQZF1DWXeOurMWUII5\", \"2otQLmbi8QWHjDfq3eL0DC\",\n",
    "                               \"37i9dQZF1DXd6tJtr4qeot\", \"37i9dQZF1EQpj7X7UK8OOF\", \"37i9dQZF1DWZBCPUIUs2iR\",\n",
    "                               \"37i9dQZF1EQpgT26jgbgRI\", \"37i9dQZF1EQoqCH7BwIYb7\", \"37i9dQZF1EIfIliH9h0OqJ\",\n",
    "                               \"37i9dQZF1EQqkOPvHGajmW\", \"37i9dQZF1EQnqst5TRi17F\", \"37i9dQZF1DXbITWG1ZJKYt\",\n",
    "                               \"37i9dQZF1EQncLwOalG3K7\", \"37i9dQZF1EIhKhPuz9X9RP\", \"37i9dQZF1DWYzTSrc7SiSZ\",\n",
    "                               \"37i9dQZF1EIcMbGxNGUuZo\", \"37i9dQZF1EIehE24MT7gFU\", \"76iQv4c5qSM4AgvXph4rJu\",\n",
    "                               \"61jNo7WKLOIQkahju8i0hw\", \"37i9dQZF1DWTkxQvqMy4WW\", \"37i9dQZF1DX4HvY8T59VN2\",\n",
    "                               \"37i9dQZF1DXbO6rt3GhXDY\", \"37i9dQZF1DWVdgXTbYm2r0\"]\n",
    "\n",
    "def get_playlist_tracks(username, playlist_id):\n",
    "    results = sp.user_playlist_tracks(username, playlist_id)\n",
    "    tracks = results['items']\n",
    "    while results['next']:\n",
    "        results = sp.next(results)\n",
    "        tracks.extend(results['items'])\n",
    "    return tracks\n",
    "\n",
    "tracks = []\n",
    "track_ids = []"
   ]
  },
  {
   "cell_type": "code",
   "execution_count": 8,
   "id": "52baeedb-153b-41c0-84cc-1c36227a657d",
   "metadata": {},
   "outputs": [
    {
     "name": "stdout",
     "output_type": "stream",
     "text": [
      "4939\n",
      "4939\n"
     ]
    }
   ],
   "source": [
    "for playlist_id in playlist_ids:\n",
    "    playlist_tracks = get_playlist_tracks(\"Spotify\", playlist_id)\n",
    "    tracks.extend(playlist_tracks)\n",
    "\n",
    "for track in tracks:\n",
    "    track_ids.append(track['track']['id'])\n",
    "\n",
    "print(len(tracks))\n",
    "print(len(track_ids))"
   ]
  },
  {
   "cell_type": "code",
   "execution_count": 9,
   "id": "77d04ea7-b7ea-418e-9d43-19d730d35001",
   "metadata": {},
   "outputs": [],
   "source": [
    "chunk_size = 100\n",
    "chunks = [track_ids[i:i + chunk_size] for i in range(0, len(track_ids), chunk_size)]\n",
    "all_features = []\n",
    "\n",
    "for chunk in chunks:\n",
    "    af = sp.audio_features(chunk)\n",
    "    all_features.extend(af)"
   ]
  },
  {
   "cell_type": "code",
   "execution_count": 10,
   "id": "639fc3d4-29c8-407a-9bcc-f8f1cc2273db",
   "metadata": {},
   "outputs": [],
   "source": [
    "all_features = [i for i in all_features if i is not None]"
   ]
  },
  {
   "cell_type": "code",
   "execution_count": 11,
   "id": "3ab0597f-7b1b-4b88-9f89-89bffbf43876",
   "metadata": {},
   "outputs": [
    {
     "name": "stdout",
     "output_type": "stream",
     "text": [
      "(4349, 18)\n"
     ]
    }
   ],
   "source": [
    "song_db = pd.DataFrame(all_features)\n",
    "song_db = song_db.drop_duplicates('id')\n",
    "print(song_db.shape)\n",
    "song_db.to_csv('song_database.csv')"
   ]
  },
  {
   "cell_type": "markdown",
   "id": "96c30c01-ca64-49af-9875-db31d42d11c0",
   "metadata": {},
   "source": [
    "- Create a Python program that takes a user input, checks if it is present in your scraped DataFrame.\n",
    "- If it is, it recommends a random song from the DataFrame.\n",
    "- If it’s not, it prints: Sorry, your song is not popular.\n",
    "- Important note: For now, you will not use the DataFrame of audio features you created yesterday."
   ]
  },
  {
   "cell_type": "code",
   "execution_count": 146,
   "id": "2439c5fb-06a4-45e1-bbf3-9dc75e80d6da",
   "metadata": {},
   "outputs": [
    {
     "name": "stdin",
     "output_type": "stream",
     "text": [
      "Please enter the title of a song you like: a bar song\n",
      "Did you mean 'A Bar Song (Tipsy)'? (type yes or no):  yes\n"
     ]
    },
    {
     "name": "stdout",
     "output_type": "stream",
     "text": [
      "Recommended song: Liar by Jelly Roll\n"
     ]
    },
    {
     "data": {
      "text/html": [
       "\n",
       "        <iframe\n",
       "            width=\"320\"\n",
       "            height=\"80\"\n",
       "            src=\"https://open.spotify.com/embed/track/0llPOBVoJYDAtdmVlNE41A?frameborder=0&allowtransparency=true&allow=encrypted-media\"\n",
       "            frameborder=\"0\"\n",
       "            allowfullscreen\n",
       "            \n",
       "        ></iframe>\n",
       "        "
      ],
      "text/plain": [
       "<IPython.lib.display.IFrame at 0x7f9145807670>"
      ]
     },
     "metadata": {},
     "output_type": "display_data"
    }
   ],
   "source": [
    "# getting user input and formatting it\n",
    "song = input('Please enter the title of a song you like:')\n",
    "song = song.title().strip()\n",
    "songs = top_100['song_title'].values.tolist()\n",
    "\n",
    "def play_song(track_id):\n",
    "    return IFrame(src=\"https://open.spotify.com/embed/track/\"+track_id,\n",
    "       width=\"320\",\n",
    "       height=\"80\",\n",
    "       frameborder=\"0\",\n",
    "       allowtransparency=\"true\",\n",
    "       allow=\"encrypted-media\")\n",
    "\n",
    "# play song that was entered\n",
    "result = sp.search(q=f\"{song}\", limit=1)\n",
    "song_id = result[\"tracks\"][\"items\"][0][\"id\"]\n",
    "display(play_song(song_id))\n",
    "\n",
    "# train models on audiofeatures of  spotify databse, select and save best model\n",
    "\n",
    "# unser input song\n",
    "# check if song in billboard hot 100\n",
    "# -> if not a perfect match with any of the songs, check fuzzy similarity with all 100 songs and see which one fits best - double check with user if this song was meant\n",
    "# if yes, recommend another hot song and show player\n",
    "# if not, get audiofeatures of this song from spotify\n",
    "# use model to check which cluster the song belongs to\n",
    "# sample song from the same cluster and show player\n",
    "\n",
    "if song not in songs:\n",
    "    rec_song_id = None\n",
    "    best_match = None\n",
    "    max_sim = 0\n",
    "    for i in songs:\n",
    "        similarity = fuzz.ratio(i, song)\n",
    "        if similarity > max_sim:\n",
    "            max_sim = similarity\n",
    "            best_match = i\n",
    "    if max_sim <= 90:\n",
    "        follow_up = input(f\"Did you mean '{best_match}'? (type yes or no): \").lower().strip()\n",
    "        if follow_up == 'yes':\n",
    "            song = best_match\n",
    "            rec_song = random.choice(songs)\n",
    "            rec_artist = top_100.query(\"song_title == @rec_song\")['artist'].iloc[0]\n",
    "            result = sp.search(q=f\"{rec_song} {rec_artist}\", limit=1)\n",
    "            if result[\"tracks\"][\"items\"]:\n",
    "                rec_song_id = result[\"tracks\"][\"items\"][0][\"id\"]\n",
    "                print(f\"Recommended song: {rec_song} by {rec_artist}\")\n",
    "                display(play_song(rec_song_id))\n",
    "        else:\n",
    "            print(\"Sorry, we couldn't find your song\")\n",
    "    else:\n",
    "        print(\"Sorry, we couldn't find your song on Spotify.\")"
   ]
  },
  {
   "cell_type": "markdown",
   "id": "0559232e-9558-4a6d-b342-624ccedbdc67",
   "metadata": {},
   "source": [
    "Using one of the Unsupervised Learning Algorithms that we have covered, create a model using the audio features DataFrame you created on Tuesday."
   ]
  },
  {
   "cell_type": "code",
   "execution_count": 194,
   "id": "1987652f-0b8f-4352-8ed7-2094b76c5ab8",
   "metadata": {},
   "outputs": [
    {
     "data": {
      "text/html": [
       "<div>\n",
       "<style scoped>\n",
       "    .dataframe tbody tr th:only-of-type {\n",
       "        vertical-align: middle;\n",
       "    }\n",
       "\n",
       "    .dataframe tbody tr th {\n",
       "        vertical-align: top;\n",
       "    }\n",
       "\n",
       "    .dataframe thead th {\n",
       "        text-align: right;\n",
       "    }\n",
       "</style>\n",
       "<table border=\"1\" class=\"dataframe\">\n",
       "  <thead>\n",
       "    <tr style=\"text-align: right;\">\n",
       "      <th></th>\n",
       "      <th>Unnamed: 0</th>\n",
       "      <th>danceability</th>\n",
       "      <th>energy</th>\n",
       "      <th>key</th>\n",
       "      <th>loudness</th>\n",
       "      <th>mode</th>\n",
       "      <th>speechiness</th>\n",
       "      <th>acousticness</th>\n",
       "      <th>instrumentalness</th>\n",
       "      <th>liveness</th>\n",
       "      <th>valence</th>\n",
       "      <th>tempo</th>\n",
       "      <th>type</th>\n",
       "      <th>id</th>\n",
       "      <th>uri</th>\n",
       "      <th>track_href</th>\n",
       "      <th>analysis_url</th>\n",
       "      <th>duration_ms</th>\n",
       "      <th>time_signature</th>\n",
       "    </tr>\n",
       "  </thead>\n",
       "  <tbody>\n",
       "    <tr>\n",
       "      <th>0</th>\n",
       "      <td>0</td>\n",
       "      <td>0.670</td>\n",
       "      <td>0.910</td>\n",
       "      <td>0</td>\n",
       "      <td>-4.070</td>\n",
       "      <td>0</td>\n",
       "      <td>0.0634</td>\n",
       "      <td>0.0939</td>\n",
       "      <td>0.0000</td>\n",
       "      <td>0.304</td>\n",
       "      <td>0.786</td>\n",
       "      <td>112.966</td>\n",
       "      <td>audio_features</td>\n",
       "      <td>1d7Ptw3qYcfpdLNL5REhtJ</td>\n",
       "      <td>spotify:track:1d7Ptw3qYcfpdLNL5REhtJ</td>\n",
       "      <td>https://api.spotify.com/v1/tracks/1d7Ptw3qYcfp...</td>\n",
       "      <td>https://api.spotify.com/v1/audio-analysis/1d7P...</td>\n",
       "      <td>157280</td>\n",
       "      <td>4</td>\n",
       "    </tr>\n",
       "    <tr>\n",
       "      <th>1</th>\n",
       "      <td>1</td>\n",
       "      <td>0.521</td>\n",
       "      <td>0.592</td>\n",
       "      <td>6</td>\n",
       "      <td>-7.777</td>\n",
       "      <td>0</td>\n",
       "      <td>0.0304</td>\n",
       "      <td>0.3080</td>\n",
       "      <td>0.0000</td>\n",
       "      <td>0.122</td>\n",
       "      <td>0.535</td>\n",
       "      <td>157.969</td>\n",
       "      <td>audio_features</td>\n",
       "      <td>2plbrEY59IikOBgBGLjaoe</td>\n",
       "      <td>spotify:track:2plbrEY59IikOBgBGLjaoe</td>\n",
       "      <td>https://api.spotify.com/v1/tracks/2plbrEY59Iik...</td>\n",
       "      <td>https://api.spotify.com/v1/audio-analysis/2plb...</td>\n",
       "      <td>251668</td>\n",
       "      <td>3</td>\n",
       "    </tr>\n",
       "    <tr>\n",
       "      <th>2</th>\n",
       "      <td>2</td>\n",
       "      <td>0.554</td>\n",
       "      <td>0.808</td>\n",
       "      <td>1</td>\n",
       "      <td>-4.169</td>\n",
       "      <td>1</td>\n",
       "      <td>0.0368</td>\n",
       "      <td>0.2140</td>\n",
       "      <td>0.0000</td>\n",
       "      <td>0.159</td>\n",
       "      <td>0.372</td>\n",
       "      <td>108.548</td>\n",
       "      <td>audio_features</td>\n",
       "      <td>7ne4VBA60CxGM75vw0EYad</td>\n",
       "      <td>spotify:track:7ne4VBA60CxGM75vw0EYad</td>\n",
       "      <td>https://api.spotify.com/v1/tracks/7ne4VBA60CxG...</td>\n",
       "      <td>https://api.spotify.com/v1/audio-analysis/7ne4...</td>\n",
       "      <td>166300</td>\n",
       "      <td>4</td>\n",
       "    </tr>\n",
       "    <tr>\n",
       "      <th>3</th>\n",
       "      <td>3</td>\n",
       "      <td>0.777</td>\n",
       "      <td>0.783</td>\n",
       "      <td>0</td>\n",
       "      <td>-4.477</td>\n",
       "      <td>0</td>\n",
       "      <td>0.2600</td>\n",
       "      <td>0.0283</td>\n",
       "      <td>0.0000</td>\n",
       "      <td>0.355</td>\n",
       "      <td>0.939</td>\n",
       "      <td>149.027</td>\n",
       "      <td>audio_features</td>\n",
       "      <td>5vNRhkKd0yEAg8suGBpjeY</td>\n",
       "      <td>spotify:track:5vNRhkKd0yEAg8suGBpjeY</td>\n",
       "      <td>https://api.spotify.com/v1/tracks/5vNRhkKd0yEA...</td>\n",
       "      <td>https://api.spotify.com/v1/audio-analysis/5vNR...</td>\n",
       "      <td>169917</td>\n",
       "      <td>4</td>\n",
       "    </tr>\n",
       "    <tr>\n",
       "      <th>4</th>\n",
       "      <td>4</td>\n",
       "      <td>0.747</td>\n",
       "      <td>0.507</td>\n",
       "      <td>2</td>\n",
       "      <td>-10.171</td>\n",
       "      <td>1</td>\n",
       "      <td>0.0358</td>\n",
       "      <td>0.2000</td>\n",
       "      <td>0.0608</td>\n",
       "      <td>0.117</td>\n",
       "      <td>0.438</td>\n",
       "      <td>104.978</td>\n",
       "      <td>audio_features</td>\n",
       "      <td>6dOtVTDdiauQNBQEDOtlAB</td>\n",
       "      <td>spotify:track:6dOtVTDdiauQNBQEDOtlAB</td>\n",
       "      <td>https://api.spotify.com/v1/tracks/6dOtVTDdiauQ...</td>\n",
       "      <td>https://api.spotify.com/v1/audio-analysis/6dOt...</td>\n",
       "      <td>210373</td>\n",
       "      <td>4</td>\n",
       "    </tr>\n",
       "  </tbody>\n",
       "</table>\n",
       "</div>"
      ],
      "text/plain": [
       "   Unnamed: 0  danceability  energy  key  loudness  mode  speechiness  \\\n",
       "0           0         0.670   0.910    0    -4.070     0       0.0634   \n",
       "1           1         0.521   0.592    6    -7.777     0       0.0304   \n",
       "2           2         0.554   0.808    1    -4.169     1       0.0368   \n",
       "3           3         0.777   0.783    0    -4.477     0       0.2600   \n",
       "4           4         0.747   0.507    2   -10.171     1       0.0358   \n",
       "\n",
       "   acousticness  instrumentalness  liveness  valence    tempo            type  \\\n",
       "0        0.0939            0.0000     0.304    0.786  112.966  audio_features   \n",
       "1        0.3080            0.0000     0.122    0.535  157.969  audio_features   \n",
       "2        0.2140            0.0000     0.159    0.372  108.548  audio_features   \n",
       "3        0.0283            0.0000     0.355    0.939  149.027  audio_features   \n",
       "4        0.2000            0.0608     0.117    0.438  104.978  audio_features   \n",
       "\n",
       "                       id                                   uri  \\\n",
       "0  1d7Ptw3qYcfpdLNL5REhtJ  spotify:track:1d7Ptw3qYcfpdLNL5REhtJ   \n",
       "1  2plbrEY59IikOBgBGLjaoe  spotify:track:2plbrEY59IikOBgBGLjaoe   \n",
       "2  7ne4VBA60CxGM75vw0EYad  spotify:track:7ne4VBA60CxGM75vw0EYad   \n",
       "3  5vNRhkKd0yEAg8suGBpjeY  spotify:track:5vNRhkKd0yEAg8suGBpjeY   \n",
       "4  6dOtVTDdiauQNBQEDOtlAB  spotify:track:6dOtVTDdiauQNBQEDOtlAB   \n",
       "\n",
       "                                          track_href  \\\n",
       "0  https://api.spotify.com/v1/tracks/1d7Ptw3qYcfp...   \n",
       "1  https://api.spotify.com/v1/tracks/2plbrEY59Iik...   \n",
       "2  https://api.spotify.com/v1/tracks/7ne4VBA60CxG...   \n",
       "3  https://api.spotify.com/v1/tracks/5vNRhkKd0yEA...   \n",
       "4  https://api.spotify.com/v1/tracks/6dOtVTDdiauQ...   \n",
       "\n",
       "                                        analysis_url  duration_ms  \\\n",
       "0  https://api.spotify.com/v1/audio-analysis/1d7P...       157280   \n",
       "1  https://api.spotify.com/v1/audio-analysis/2plb...       251668   \n",
       "2  https://api.spotify.com/v1/audio-analysis/7ne4...       166300   \n",
       "3  https://api.spotify.com/v1/audio-analysis/5vNR...       169917   \n",
       "4  https://api.spotify.com/v1/audio-analysis/6dOt...       210373   \n",
       "\n",
       "   time_signature  \n",
       "0               4  \n",
       "1               3  \n",
       "2               4  \n",
       "3               4  \n",
       "4               4  "
      ]
     },
     "execution_count": 194,
     "metadata": {},
     "output_type": "execute_result"
    }
   ],
   "source": [
    "df = pd.read_csv(\"/Users/reppmazc/Documents/IRONHACK/quests/song_recommender/song_database.csv\")\n",
    "df.head()"
   ]
  },
  {
   "cell_type": "code",
   "execution_count": 196,
   "id": "b553f16b-bc6c-4a43-b83e-bcd7deef6a6f",
   "metadata": {},
   "outputs": [
    {
     "name": "stdout",
     "output_type": "stream",
     "text": [
      "(4349, 19)\n"
     ]
    }
   ],
   "source": [
    "# drop columns i dont consider features:\n",
    "print(df.shape)\n",
    "df = df.drop(columns = [\"liveness\", \"loudness\", \"speechiness\", \"tempo\", \"danceability\", \"uri\", \"track_href\", \"analysis_url\",\n",
    "                        \"duration_ms\", \"time_signature\", \"Unnamed: 0\", \"type\"])\n",
    "df = df.dropna()\n",
    "df['id'] = df['id'].astype(str)\n",
    "df.set_index(\"id\", inplace = True)"
   ]
  },
  {
   "cell_type": "code",
   "execution_count": 198,
   "id": "042a2f84-3b63-4eac-8438-5e9ccbf7219b",
   "metadata": {},
   "outputs": [],
   "source": [
    "scaler = MinMaxScaler()\n",
    "scaled = scaler.fit_transform(df)\n",
    "scaled_df = pd.DataFrame(scaled, columns = df.columns, index=df.index)\n",
    "\n",
    "with open('scaler.pkl', 'wb') as file:\n",
    "    pickle.dump(scaler, file)"
   ]
  },
  {
   "cell_type": "markdown",
   "id": "0f88a672-3d91-4a92-b421-17181ed2ec8d",
   "metadata": {},
   "source": [
    "# K means clustering"
   ]
  },
  {
   "cell_type": "code",
   "execution_count": 218,
   "id": "5e68fbb9-e005-457f-917c-51638fbf1ef8",
   "metadata": {},
   "outputs": [],
   "source": [
    "kmeans = KMeans(n_clusters=15, random_state=42)\n",
    "kmeans.fit(scaled_df)\n",
    "labels = kmeans.labels_\n",
    "np.unique(labels)\n",
    "clusters = kmeans.predict(scaled_df)\n",
    "pd.Series(clusters).value_counts().sort_index()\n",
    "scaled_df[\"cluster\"] = clusters\n",
    "scaled_df.to_csv(\"/Users/reppmazc/Documents/IRONHACK/quests/song_recommender/song_database_scaled_clustered.csv\")"
   ]
  },
  {
   "cell_type": "code",
   "execution_count": 220,
   "id": "685322e2-897d-4834-a9b4-fae468c76a62",
   "metadata": {},
   "outputs": [],
   "source": [
    "# save model\n",
    "with open(\"kmeans_model.pkl\", \"wb\") as f:\n",
    "    pickle.dump(kmeans, f)"
   ]
  },
  {
   "cell_type": "code",
   "execution_count": 222,
   "id": "b9a7f04f-8334-41f1-99e5-0cfeb688df77",
   "metadata": {},
   "outputs": [],
   "source": [
    "# load model\n",
    "with open(\"kmeans_model.pkl\", \"rb\") as f:\n",
    "    kmeans_loaded = pickle.load(f)"
   ]
  },
  {
   "cell_type": "code",
   "execution_count": 224,
   "id": "31b3b3df-ad50-40f7-b59a-2ec25bc19f07",
   "metadata": {},
   "outputs": [
    {
     "data": {
      "text/plain": [
       "0     290\n",
       "1     215\n",
       "2     353\n",
       "3     261\n",
       "4     252\n",
       "5     360\n",
       "6     250\n",
       "7     318\n",
       "8     268\n",
       "9     404\n",
       "10    361\n",
       "11    230\n",
       "12    214\n",
       "13    400\n",
       "14    173\n",
       "Name: count, dtype: int64"
      ]
     },
     "execution_count": 224,
     "metadata": {},
     "output_type": "execute_result"
    }
   ],
   "source": [
    "pd.Series(clusters).value_counts().sort_index()"
   ]
  },
  {
   "cell_type": "code",
   "execution_count": 226,
   "id": "cfad1108-0c9f-4a16-81a4-dcd433ace644",
   "metadata": {},
   "outputs": [
    {
     "name": "stdout",
     "output_type": "stream",
     "text": [
      "mode                0.507093\n",
      "instrumentalness    0.378519\n",
      "acousticness        0.305687\n",
      "key                 0.267176\n",
      "energy              0.211501\n",
      "valence             0.171196\n",
      "dtype: float64\n"
     ]
    }
   ],
   "source": [
    "centroids = kmeans.cluster_centers_\n",
    "centroids_df = pd.DataFrame(centroids, columns=scaled_df.drop(\"cluster\", axis=1).columns)\n",
    "centroids_df.index = [f\"Cluster {i}\" for i in range(len(centroids))]\n",
    "cluster_variability = centroids_df.std(axis=0).sort_values(ascending=False)\n",
    "print(cluster_variability)"
   ]
  },
  {
   "cell_type": "code",
   "execution_count": 228,
   "id": "b3e11b82-6ce6-487e-9f43-781f8144d111",
   "metadata": {},
   "outputs": [
    {
     "data": {
      "image/png": "[encoded data removed]",
      "text/plain": [
       "<Figure size 1200x800 with 1 Axes>"
      ]
     },
     "metadata": {},
     "output_type": "display_data"
    }
   ],
   "source": [
    "centroids_df.T.plot(kind=\"bar\", figsize=(12, 8))\n",
    "plt.title(\"Feature Values for Each Cluster\")\n",
    "plt.ylabel(\"Feature Value\")\n",
    "plt.xticks(rotation=45)\n",
    "plt.legend(title=\"Cluster\")\n",
    "plt.show()"
   ]
  },
  {
   "cell_type": "markdown",
   "id": "7684f97d-f577-4274-abab-b14f1c73ac78",
   "metadata": {},
   "source": [
    "## kmeans clustering eval"
   ]
  },
  {
   "cell_type": "code",
   "execution_count": 230,
   "id": "9fb918e6-f621-45d7-89cf-b9b422111acd",
   "metadata": {},
   "outputs": [
    {
     "name": "stdout",
     "output_type": "stream",
     "text": [
      "Intel MKL WARNING: Support of Intel(R) Streaming SIMD Extensions 4.2 (Intel(R) SSE4.2) enabled only processors has been deprecated. Intel oneAPI Math Kernel Library 2025.0 will require Intel(R) Advanced Vector Extensions (Intel(R) AVX) instructions.\n",
      "Silhouette Score: 0.2585514366894869\n"
     ]
    }
   ],
   "source": [
    "# silhouette\n",
    "silhouette_avg = silhouette_score(scaled_df.drop(\"cluster\", axis=1), clusters)\n",
    "print(f\"Silhouette Score: {silhouette_avg}\")"
   ]
  },
  {
   "cell_type": "code",
   "execution_count": 232,
   "id": "74bac46a-5ed4-439e-a85c-6c2c6f704eaa",
   "metadata": {},
   "outputs": [
    {
     "name": "stdout",
     "output_type": "stream",
     "text": [
      "Intel MKL WARNING: Support of Intel(R) Streaming SIMD Extensions 4.2 (Intel(R) SSE4.2) enabled only processors has been deprecated. Intel oneAPI Math Kernel Library 2025.0 will require Intel(R) Advanced Vector Extensions (Intel(R) AVX) instructions.\n",
      "Intel MKL WARNING: Support of Intel(R) Streaming SIMD Extensions 4.2 (Intel(R) SSE4.2) enabled only processors has been deprecated. Intel oneAPI Math Kernel Library 2025.0 will require Intel(R) Advanced Vector Extensions (Intel(R) AVX) instructions.\n",
      "Intel MKL WARNING: Support of Intel(R) Streaming SIMD Extensions 4.2 (Intel(R) SSE4.2) enabled only processors has been deprecated. Intel oneAPI Math Kernel Library 2025.0 will require Intel(R) Advanced Vector Extensions (Intel(R) AVX) instructions.\n",
      "Intel MKL WARNING: Support of Intel(R) Streaming SIMD Extensions 4.2 (Intel(R) SSE4.2) enabled only processors has been deprecated. Intel oneAPI Math Kernel Library 2025.0 will require Intel(R) Advanced Vector Extensions (Intel(R) AVX) instructions.\n",
      "Intel MKL WARNING: Support of Intel(R) Streaming SIMD Extensions 4.2 (Intel(R) SSE4.2) enabled only processors has been deprecated. Intel oneAPI Math Kernel Library 2025.0 will require Intel(R) Advanced Vector Extensions (Intel(R) AVX) instructions.\n",
      "Intel MKL WARNING: Support of Intel(R) Streaming SIMD Extensions 4.2 (Intel(R) SSE4.2) enabled only processors has been deprecated. Intel oneAPI Math Kernel Library 2025.0 will require Intel(R) Advanced Vector Extensions (Intel(R) AVX) instructions.\n",
      "Intel MKL WARNING: Support of Intel(R) Streaming SIMD Extensions 4.2 (Intel(R) SSE4.2) enabled only processors has been deprecated. Intel oneAPI Math Kernel Library 2025.0 will require Intel(R) Advanced Vector Extensions (Intel(R) AVX) instructions.\n",
      "Intel MKL WARNING: Support of Intel(R) Streaming SIMD Extensions 4.2 (Intel(R) SSE4.2) enabled only processors has been deprecated. Intel oneAPI Math Kernel Library 2025.0 will require Intel(R) Advanced Vector Extensions (Intel(R) AVX) instructions.\n",
      "Intel MKL WARNING: Support of Intel(R) Streaming SIMD Extensions 4.2 (Intel(R) SSE4.2) enabled only processors has been deprecated. Intel oneAPI Math Kernel Library 2025.0 will require Intel(R) Advanced Vector Extensions (Intel(R) AVX) instructions.\n",
      "Intel MKL WARNING: Support of Intel(R) Streaming SIMD Extensions 4.2 (Intel(R) SSE4.2) enabled only processors has been deprecated. Intel oneAPI Math Kernel Library 2025.0 will require Intel(R) Advanced Vector Extensions (Intel(R) AVX) instructions.\n",
      "Intel MKL WARNING: Support of Intel(R) Streaming SIMD Extensions 4.2 (Intel(R) SSE4.2) enabled only processors has been deprecated. Intel oneAPI Math Kernel Library 2025.0 will require Intel(R) Advanced Vector Extensions (Intel(R) AVX) instructions.\n",
      "Intel MKL WARNING: Support of Intel(R) Streaming SIMD Extensions 4.2 (Intel(R) SSE4.2) enabled only processors has been deprecated. Intel oneAPI Math Kernel Library 2025.0 will require Intel(R) Advanced Vector Extensions (Intel(R) AVX) instructions.\n",
      "Intel MKL WARNING: Support of Intel(R) Streaming SIMD Extensions 4.2 (Intel(R) SSE4.2) enabled only processors has been deprecated. Intel oneAPI Math Kernel Library 2025.0 will require Intel(R) Advanced Vector Extensions (Intel(R) AVX) instructions.\n",
      "Intel MKL WARNING: Support of Intel(R) Streaming SIMD Extensions 4.2 (Intel(R) SSE4.2) enabled only processors has been deprecated. Intel oneAPI Math Kernel Library 2025.0 will require Intel(R) Advanced Vector Extensions (Intel(R) AVX) instructions.\n",
      "Intel MKL WARNING: Support of Intel(R) Streaming SIMD Extensions 4.2 (Intel(R) SSE4.2) enabled only processors has been deprecated. Intel oneAPI Math Kernel Library 2025.0 will require Intel(R) Advanced Vector Extensions (Intel(R) AVX) instructions.\n",
      "Intel MKL WARNING: Support of Intel(R) Streaming SIMD Extensions 4.2 (Intel(R) SSE4.2) enabled only processors has been deprecated. Intel oneAPI Math Kernel Library 2025.0 will require Intel(R) Advanced Vector Extensions (Intel(R) AVX) instructions.\n",
      "Intel MKL WARNING: Support of Intel(R) Streaming SIMD Extensions 4.2 (Intel(R) SSE4.2) enabled only processors has been deprecated. Intel oneAPI Math Kernel Library 2025.0 will require Intel(R) Advanced Vector Extensions (Intel(R) AVX) instructions.\n",
      "Intel MKL WARNING: Support of Intel(R) Streaming SIMD Extensions 4.2 (Intel(R) SSE4.2) enabled only processors has been deprecated. Intel oneAPI Math Kernel Library 2025.0 will require Intel(R) Advanced Vector Extensions (Intel(R) AVX) instructions.\n",
      "Intel MKL WARNING: Support of Intel(R) Streaming SIMD Extensions 4.2 (Intel(R) SSE4.2) enabled only processors has been deprecated. Intel oneAPI Math Kernel Library 2025.0 will require Intel(R) Advanced Vector Extensions (Intel(R) AVX) instructions.\n",
      "Intel MKL WARNING: Support of Intel(R) Streaming SIMD Extensions 4.2 (Intel(R) SSE4.2) enabled only processors has been deprecated. Intel oneAPI Math Kernel Library 2025.0 will require Intel(R) Advanced Vector Extensions (Intel(R) AVX) instructions.\n",
      "Intel MKL WARNING: Support of Intel(R) Streaming SIMD Extensions 4.2 (Intel(R) SSE4.2) enabled only processors has been deprecated. Intel oneAPI Math Kernel Library 2025.0 will require Intel(R) Advanced Vector Extensions (Intel(R) AVX) instructions.\n",
      "Intel MKL WARNING: Support of Intel(R) Streaming SIMD Extensions 4.2 (Intel(R) SSE4.2) enabled only processors has been deprecated. Intel oneAPI Math Kernel Library 2025.0 will require Intel(R) Advanced Vector Extensions (Intel(R) AVX) instructions.\n",
      "Intel MKL WARNING: Support of Intel(R) Streaming SIMD Extensions 4.2 (Intel(R) SSE4.2) enabled only processors has been deprecated. Intel oneAPI Math Kernel Library 2025.0 will require Intel(R) Advanced Vector Extensions (Intel(R) AVX) instructions.\n",
      "Intel MKL WARNING: Support of Intel(R) Streaming SIMD Extensions 4.2 (Intel(R) SSE4.2) enabled only processors has been deprecated. Intel oneAPI Math Kernel Library 2025.0 will require Intel(R) Advanced Vector Extensions (Intel(R) AVX) instructions.\n",
      "Intel MKL WARNING: Support of Intel(R) Streaming SIMD Extensions 4.2 (Intel(R) SSE4.2) enabled only processors has been deprecated. Intel oneAPI Math Kernel Library 2025.0 will require Intel(R) Advanced Vector Extensions (Intel(R) AVX) instructions.\n",
      "Intel MKL WARNING: Support of Intel(R) Streaming SIMD Extensions 4.2 (Intel(R) SSE4.2) enabled only processors has been deprecated. Intel oneAPI Math Kernel Library 2025.0 will require Intel(R) Advanced Vector Extensions (Intel(R) AVX) instructions.\n",
      "Intel MKL WARNING: Support of Intel(R) Streaming SIMD Extensions 4.2 (Intel(R) SSE4.2) enabled only processors has been deprecated. Intel oneAPI Math Kernel Library 2025.0 will require Intel(R) Advanced Vector Extensions (Intel(R) AVX) instructions.\n",
      "Intel MKL WARNING: Support of Intel(R) Streaming SIMD Extensions 4.2 (Intel(R) SSE4.2) enabled only processors has been deprecated. Intel oneAPI Math Kernel Library 2025.0 will require Intel(R) Advanced Vector Extensions (Intel(R) AVX) instructions.\n",
      "Intel MKL WARNING: Support of Intel(R) Streaming SIMD Extensions 4.2 (Intel(R) SSE4.2) enabled only processors has been deprecated. Intel oneAPI Math Kernel Library 2025.0 will require Intel(R) Advanced Vector Extensions (Intel(R) AVX) instructions.\n",
      "Intel MKL WARNING: Support of Intel(R) Streaming SIMD Extensions 4.2 (Intel(R) SSE4.2) enabled only processors has been deprecated. Intel oneAPI Math Kernel Library 2025.0 will require Intel(R) Advanced Vector Extensions (Intel(R) AVX) instructions.\n",
      "Intel MKL WARNING: Support of Intel(R) Streaming SIMD Extensions 4.2 (Intel(R) SSE4.2) enabled only processors has been deprecated. Intel oneAPI Math Kernel Library 2025.0 will require Intel(R) Advanced Vector Extensions (Intel(R) AVX) instructions.\n",
      "Intel MKL WARNING: Support of Intel(R) Streaming SIMD Extensions 4.2 (Intel(R) SSE4.2) enabled only processors has been deprecated. Intel oneAPI Math Kernel Library 2025.0 will require Intel(R) Advanced Vector Extensions (Intel(R) AVX) instructions.\n",
      "Intel MKL WARNING: Support of Intel(R) Streaming SIMD Extensions 4.2 (Intel(R) SSE4.2) enabled only processors has been deprecated. Intel oneAPI Math Kernel Library 2025.0 will require Intel(R) Advanced Vector Extensions (Intel(R) AVX) instructions.\n",
      "Intel MKL WARNING: Support of Intel(R) Streaming SIMD Extensions 4.2 (Intel(R) SSE4.2) enabled only processors has been deprecated. Intel oneAPI Math Kernel Library 2025.0 will require Intel(R) Advanced Vector Extensions (Intel(R) AVX) instructions.\n",
      "Intel MKL WARNING: Support of Intel(R) Streaming SIMD Extensions 4.2 (Intel(R) SSE4.2) enabled only processors has been deprecated. Intel oneAPI Math Kernel Library 2025.0 will require Intel(R) Advanced Vector Extensions (Intel(R) AVX) instructions.\n",
      "Intel MKL WARNING: Support of Intel(R) Streaming SIMD Extensions 4.2 (Intel(R) SSE4.2) enabled only processors has been deprecated. Intel oneAPI Math Kernel Library 2025.0 will require Intel(R) Advanced Vector Extensions (Intel(R) AVX) instructions.\n",
      "Intel MKL WARNING: Support of Intel(R) Streaming SIMD Extensions 4.2 (Intel(R) SSE4.2) enabled only processors has been deprecated. Intel oneAPI Math Kernel Library 2025.0 will require Intel(R) Advanced Vector Extensions (Intel(R) AVX) instructions.\n",
      "Intel MKL WARNING: Support of Intel(R) Streaming SIMD Extensions 4.2 (Intel(R) SSE4.2) enabled only processors has been deprecated. Intel oneAPI Math Kernel Library 2025.0 will require Intel(R) Advanced Vector Extensions (Intel(R) AVX) instructions.\n",
      "Intel MKL WARNING: Support of Intel(R) Streaming SIMD Extensions 4.2 (Intel(R) SSE4.2) enabled only processors has been deprecated. Intel oneAPI Math Kernel Library 2025.0 will require Intel(R) Advanced Vector Extensions (Intel(R) AVX) instructions.\n",
      "Intel MKL WARNING: Support of Intel(R) Streaming SIMD Extensions 4.2 (Intel(R) SSE4.2) enabled only processors has been deprecated. Intel oneAPI Math Kernel Library 2025.0 will require Intel(R) Advanced Vector Extensions (Intel(R) AVX) instructions.\n",
      "Intel MKL WARNING: Support of Intel(R) Streaming SIMD Extensions 4.2 (Intel(R) SSE4.2) enabled only processors has been deprecated. Intel oneAPI Math Kernel Library 2025.0 will require Intel(R) Advanced Vector Extensions (Intel(R) AVX) instructions.\n",
      "Intel MKL WARNING: Support of Intel(R) Streaming SIMD Extensions 4.2 (Intel(R) SSE4.2) enabled only processors has been deprecated. Intel oneAPI Math Kernel Library 2025.0 will require Intel(R) Advanced Vector Extensions (Intel(R) AVX) instructions.\n",
      "Intel MKL WARNING: Support of Intel(R) Streaming SIMD Extensions 4.2 (Intel(R) SSE4.2) enabled only processors has been deprecated. Intel oneAPI Math Kernel Library 2025.0 will require Intel(R) Advanced Vector Extensions (Intel(R) AVX) instructions.\n",
      "Intel MKL WARNING: Support of Intel(R) Streaming SIMD Extensions 4.2 (Intel(R) SSE4.2) enabled only processors has been deprecated. Intel oneAPI Math Kernel Library 2025.0 will require Intel(R) Advanced Vector Extensions (Intel(R) AVX) instructions.\n",
      "Intel MKL WARNING: Support of Intel(R) Streaming SIMD Extensions 4.2 (Intel(R) SSE4.2) enabled only processors has been deprecated. Intel oneAPI Math Kernel Library 2025.0 will require Intel(R) Advanced Vector Extensions (Intel(R) AVX) instructions.\n",
      "Intel MKL WARNING: Support of Intel(R) Streaming SIMD Extensions 4.2 (Intel(R) SSE4.2) enabled only processors has been deprecated. Intel oneAPI Math Kernel Library 2025.0 will require Intel(R) Advanced Vector Extensions (Intel(R) AVX) instructions.\n"
     ]
    }
   ],
   "source": [
    "results = []\n",
    "for k in range(2, 25):\n",
    "    kmeans = KMeans(n_clusters=k, random_state=42)\n",
    "    kmeans.fit(scaled_df.drop(\"cluster\", axis=1))\n",
    "    clusters = kmeans.labels_\n",
    "    \n",
    "    silhouette_avg = silhouette_score(scaled_df.drop(\"cluster\", axis=1), clusters)\n",
    "    calinski_harabasz = calinski_harabasz_score(scaled_df.drop(\"cluster\", axis=1), clusters)\n",
    "    davies_bouldin = davies_bouldin_score(scaled_df.drop(\"cluster\", axis=1), clusters)\n",
    "    \n",
    "    results.append({\n",
    "        \"k\": k,\n",
    "        \"Silhouette\": silhouette_avg,\n",
    "        \"Calinski-Harabasz\": calinski_harabasz,\n",
    "        \"Davies-Bouldin\": davies_bouldin})\n",
    "\n",
    "results_df = pd.DataFrame(results)"
   ]
  },
  {
   "cell_type": "code",
   "execution_count": 234,
   "id": "441316a9-1592-48d4-8be3-9939775b0804",
   "metadata": {},
   "outputs": [
    {
     "data": {
      "image/png": "[encoded data removed]",
      "text/plain": [
       "<Figure size 1000x600 with 1 Axes>"
      ]
     },
     "metadata": {},
     "output_type": "display_data"
    }
   ],
   "source": [
    "scaler = MinMaxScaler()\n",
    "scaled_results = scaler.fit_transform(results_df.iloc[:, 1:])\n",
    "results_df_normalized = pd.DataFrame(scaled_results, columns=results_df.columns[1:])\n",
    "results_df_normalized['k'] = results_df['k']\n",
    "\n",
    "plt.figure(figsize=(10, 6))\n",
    "for col in results_df_normalized.columns[:-1]:\n",
    "    plt.plot(results_df_normalized['k'], results_df_normalized[col], label=col)\n",
    "plt.xlabel('Number of Clusters (k)')\n",
    "plt.ylabel('Normalized Score')\n",
    "plt.title('Normalized Cluster Evaluation Metrics')\n",
    "plt.legend()\n",
    "plt.grid()\n",
    "plt.show()"
   ]
  },
  {
   "cell_type": "code",
   "execution_count": 238,
   "id": "c112e023-98e6-412e-99cf-0414bb504f1b",
   "metadata": {},
   "outputs": [
    {
     "data": {
      "image/png": "[encoded data removed]",
      "text/plain": [
       "<Figure size 1000x600 with 1 Axes>"
      ]
     },
     "metadata": {},
     "output_type": "display_data"
    }
   ],
   "source": [
    "# inertia\n",
    "inertia = []\n",
    "for k in range(1, 20):\n",
    "    kmeans = KMeans(n_clusters=k, random_state=42)\n",
    "    kmeans.fit(df[[\"energy\",\n",
    "                   \"key\",\n",
    "                   \"mode\",\n",
    "                   \"acousticness\",\n",
    "                   \"instrumentalness\",\n",
    "                   \"valence\"]])\n",
    "    inertia.append(kmeans.inertia_)\n",
    "\n",
    "plt.figure(figsize=(10, 6))\n",
    "plt.plot(range(1, 20), inertia, marker='x')\n",
    "plt.xlabel('Number of clusters')\n",
    "plt.ylabel('Level of Inertia')\n",
    "plt.show()"
   ]
  },
  {
   "cell_type": "markdown",
   "id": "5cf60150-4061-4b0f-917f-f09c1454f47a",
   "metadata": {},
   "source": [
    "# DBSCAN"
   ]
  },
  {
   "cell_type": "code",
   "execution_count": 120,
   "id": "ddac416f-d9b8-44f5-af73-167e399ed92d",
   "metadata": {},
   "outputs": [
    {
     "name": "stdout",
     "output_type": "stream",
     "text": [
      "eps=0.1, min_samples=3, clusters=[ -1   0   1   2   3   4   5   6   7   8   9  10  11  12  13  14  15  16\n",
      "  17  18  19  20  21  22  23  24  25  26  27  28  29  30  31  32  33  34\n",
      "  35  36  37  38  39  40  41  42  43  44  45  46  47  48  49  50  51  52\n",
      "  53  54  55  56  57  58  59  60  61  62  63  64  65  66  67  68  69  70\n",
      "  71  72  73  74  75  76  77  78  79  80  81  82  83  84  85  86  87  88\n",
      "  89  90  91  92  93  94  95  96  97  98  99 100 101 102 103 104 105 106\n",
      " 107 108 109 110 111 112 113 114 115 116 117 118 119 120 121 122 123 124\n",
      " 125 126 127 128 129 130 131 132 133 134 135 136 137 138 139 140 141 142\n",
      " 143 144 145 146 147 148 149 150 151 152 153 154 155 156]\n",
      "eps=0.1, min_samples=5, clusters=[-1  0  1  2  3  4  5  6  7  8  9 10 11 12 13 14 15 16 17 18 19 20 21 22\n",
      " 23 24 25 26 27 28 29 30 31 32 33 34 35 36 37 38 39 40 41 42 43]\n",
      "eps=0.1, min_samples=10, clusters=[-1  0  1  2  3  4  5  6]\n",
      "eps=0.2, min_samples=3, clusters=[-1  0  1  2  3  4  5  6  7  8  9 10 11 12 13 14 15 16 17 18 19 20 21 22\n",
      " 23 24 25 26 27 28 29 30 31 32 33 34 35]\n",
      "eps=0.2, min_samples=5, clusters=[-1  0  1  2  3  4  5  6  7  8  9 10 11 12 13 14 15 16 17 18 19 20]\n",
      "eps=0.2, min_samples=10, clusters=[-1  0  1  2  3  4  5  6  7  8  9 10 11 12 13 14 15 16]\n",
      "eps=0.5, min_samples=3, clusters=[0 1 2 3 4 5 6 7 8 9]\n",
      "eps=0.5, min_samples=5, clusters=[0 1 2 3 4 5 6 7 8 9]\n",
      "eps=0.5, min_samples=10, clusters=[0 1 2 3 4 5 6 7 8 9]\n",
      "eps=1, min_samples=3, clusters=[0 1 2 3 4 5 6 7 8 9]\n",
      "eps=1, min_samples=5, clusters=[0 1 2 3 4 5 6 7 8 9]\n",
      "eps=1, min_samples=10, clusters=[0 1 2 3 4 5 6 7 8 9]\n"
     ]
    }
   ],
   "source": [
    "for eps in [0.1, 0.2, 0.5, 1]:\n",
    "    for min_samples in [3, 5, 10]:\n",
    "        dbs = DBSCAN(eps=eps, min_samples=min_samples)\n",
    "        pred = dbs.fit_predict(scaled_df)\n",
    "        print(f\"eps={eps}, min_samples={min_samples}, clusters={np.unique(pred)}\")"
   ]
  },
  {
   "cell_type": "code",
   "execution_count": 136,
   "id": "642d5d3c-1fdf-41c1-b607-67aa1df4b828",
   "metadata": {},
   "outputs": [],
   "source": [
    "dbs = DBSCAN(eps=0.5, min_samples=3)\n",
    "pred = dbs.fit_predict(scaled_df)\n",
    "scaled_df_np = scaled_df.to_numpy()\n",
    "scaled_df['cluster'] = pred"
   ]
  },
  {
   "cell_type": "code",
   "execution_count": 138,
   "id": "a4e017bc-859a-4bf2-8ad2-fd54b466bae1",
   "metadata": {},
   "outputs": [
    {
     "name": "stdout",
     "output_type": "stream",
     "text": [
      "Intel MKL WARNING: Support of Intel(R) Streaming SIMD Extensions 4.2 (Intel(R) SSE4.2) enabled only processors has been deprecated. Intel oneAPI Math Kernel Library 2025.0 will require Intel(R) Advanced Vector Extensions (Intel(R) AVX) instructions.\n",
      "Silhouette Score: 0.6103910482868652\n"
     ]
    }
   ],
   "source": [
    "# Exclude noise points (-1) for silhouette calculation\n",
    "valid_points = scaled_df[pred != -1]\n",
    "valid_labels = pred[pred != -1]\n",
    "\n",
    "if len(np.unique(valid_labels)) > 1:  # Silhouette is undefined for a single cluster\n",
    "    silhouette_avg = silhouette_score(valid_points, valid_labels)\n",
    "    print(f\"Silhouette Score: {silhouette_avg}\")\n",
    "else:\n",
    "    print(\"Silhouette Score cannot be computed for a single cluster.\")\n"
   ]
  },
  {
   "cell_type": "code",
   "execution_count": 140,
   "id": "95025d4c-dd0d-44d1-9bae-75e6c8e9e330",
   "metadata": {},
   "outputs": [
    {
     "name": "stdout",
     "output_type": "stream",
     "text": [
      "Cluster sizes: {0: 319, 1: 224, 2: 672, 3: 783, 4: 216, 5: 324, 6: 380, 7: 9, 8: 7, 9: 386, 10: 14, 11: 7, 12: 6, 13: 7, 14: 12, 15: 45, 16: 5, 17: 14, 18: 12, 19: 15, 20: 163, 21: 354, 22: 186, 23: 15, 24: 11, 25: 5, 26: 9, 27: 5, 28: 4, 29: 8, 30: 6, 31: 6, 32: 5, 33: 9, 34: 5, 35: 6, 36: 5, 37: 17, 38: 5, 39: 5, 40: 21, 41: 9, 42: 8, 43: 15, 44: 4, 45: 6}\n"
     ]
    }
   ],
   "source": [
    "from collections import Counter\n",
    "cluster_sizes = Counter(pred)\n",
    "print(f\"Cluster sizes: {dict(cluster_sizes)}\")"
   ]
  },
  {
   "cell_type": "markdown",
   "id": "1fbd4235-1fc0-4f95-9f4c-75b8fa03ba71",
   "metadata": {},
   "source": [
    "- Finalize the project: Your final program should check if a song is present in your scraped billboard_hot100 DataFrame.\n",
    "- If it is, it should recommend a random song from that DataFrame.\n",
    "- If not, it should recommend a song based on musical similarity."
   ]
  },
  {
   "cell_type": "code",
   "execution_count": 55,
   "id": "a50764dd-ef33-4fc5-ad5f-293ce05cbc86",
   "metadata": {},
   "outputs": [
    {
     "name": "stdin",
     "output_type": "stream",
     "text": [
      "Please enter the title of a song you like: a bar song\n",
      "Did you mean 'A Bar Song (Tipsy)'? (type yes or no):  yes\n"
     ]
    },
    {
     "name": "stdout",
     "output_type": "stream",
     "text": [
      "Your song is hot!\n"
     ]
    },
    {
     "data": {
      "text/html": [
       "\n",
       "        <iframe\n",
       "            width=\"320\"\n",
       "            height=\"80\"\n",
       "            src=\"https://open.spotify.com/embed/track/2FQrifJ1N335Ljm3TjTVVf?frameborder=0&allowtransparency=true&allow=encrypted-media\"\n",
       "            frameborder=\"0\"\n",
       "            allowfullscreen\n",
       "            \n",
       "        ></iframe>\n",
       "        "
      ],
      "text/plain": [
       "<IPython.lib.display.IFrame at 0x7fb7141f00d0>"
      ]
     },
     "metadata": {},
     "output_type": "display_data"
    },
    {
     "name": "stdout",
     "output_type": "stream",
     "text": [
      "Here is another hot song: Pink Pony Club by Chappell Roan\n"
     ]
    },
    {
     "data": {
      "text/html": [
       "\n",
       "        <iframe\n",
       "            width=\"320\"\n",
       "            height=\"80\"\n",
       "            src=\"https://open.spotify.com/embed/track/1k6CdeQfOVSeNb6XKMeRVn?frameborder=0&allowtransparency=true&allow=encrypted-media\"\n",
       "            frameborder=\"0\"\n",
       "            allowfullscreen\n",
       "            \n",
       "        ></iframe>\n",
       "        "
      ],
      "text/plain": [
       "<IPython.lib.display.IFrame at 0x7fb6f0734a90>"
      ]
     },
     "metadata": {},
     "output_type": "display_data"
    }
   ],
   "source": [
    "# unser input song\n",
    "# check if song in billboard hot 100\n",
    "# -> if not a perfect match with any of the songs, check fuzzy similarity with all 100 songs and see which one fits best - double check with user if this song was meant\n",
    "# if yes, recommend another hot song and show player\n",
    "# if not, get audiofeatures of this song from spotify\n",
    "# use model to check which cluster the song belongs to\n",
    "# sample song from the same cluster and show player    \n",
    "\n",
    "sp = spotipy.Spotify(auth_manager=SpotifyClientCredentials(client_id=client_id, client_secret=client_secret))\n",
    "\n",
    "db = pd.read_csv(\"/Users/reppmazc/Documents/IRONHACK/quests/song_recommender/song_database_scaled_clustered.csv\")\n",
    "top_100 = pd.read_csv(\"/Users/reppmazc/Documents/IRONHACK/quests/song_recommender/top_100.csv\")\n",
    "\n",
    "#----------\n",
    "# functions\n",
    "#----------\n",
    "def get_song_id(song):\n",
    "    result = sp.search(q=f\"{song}\", limit=1)\n",
    "    song_id = result[\"tracks\"][\"items\"][0][\"id\"]\n",
    "    return song_id\n",
    "\n",
    "def play_song(track_id):\n",
    "    return IFrame(src=\"https://open.spotify.com/embed/track/\"+track_id,\n",
    "       width=\"320\",\n",
    "       height=\"80\",\n",
    "       frameborder=\"0\",\n",
    "       allowtransparency=\"true\",\n",
    "       allow=\"encrypted-media\")\n",
    "\n",
    "def load_model():\n",
    "    with open(\"kmeans_model.pkl\", \"rb\") as f:\n",
    "        kmeans = pickle.load(f)\n",
    "    return kmeans\n",
    "\n",
    "def pick_rando_song():\n",
    "    rec_song = random.choice(songs)\n",
    "    rec_artist = top_100.query(\"song_title == @rec_song\")['artist'].iloc[0]\n",
    "    search = f\"{rec_song} by {rec_artist}\"\n",
    "    print(f\"Here is another hot song: {rec_song} by {rec_artist}\")\n",
    "    return search\n",
    "\n",
    "def get_features(song_id):\n",
    "    features = sp.audio_features(song_id)\n",
    "    features_df = pd.DataFrame(features)\n",
    "    drop_columns = [\"liveness\", \"loudness\", \"speechiness\", \"tempo\", \"danceability\",\n",
    "                    \"uri\", \"track_href\", \"analysis_url\", \"duration_ms\", \n",
    "                    \"time_signature\", \"Unnamed: 0\", \"type\"]\n",
    "    features_df = features_df.drop(columns=[col for col in drop_columns if col in features_df.columns], errors='ignore')\n",
    "    features_df = features_df.dropna()\n",
    "    features_df['id'] = features_df['id'].astype(str)\n",
    "    features_df.set_index(\"id\", inplace=True)\n",
    "    with open('scaler.pkl', 'rb') as file:\n",
    "        loaded_scaler = pickle.load(file)\n",
    "    scaled_features = loaded_scaler.transform(features_df)\n",
    "    scaled_features_df = pd.DataFrame(scaled_features, columns=features_df.columns, index=features_df.index)\n",
    "    return scaled_features_df\n",
    "\n",
    "#-------------------------------------\n",
    "# getting user input and formatting it\n",
    "#-------------------------------------\n",
    "song = input('Please enter the title of a song you like:')\n",
    "song = song.title().strip()\n",
    "songs = top_100['song_title'].values.tolist()\n",
    "\n",
    "#--------------------------------------\n",
    "# giving out hot song or recommendation\n",
    "#--------------------------------------\n",
    "if song not in songs:\n",
    "    rec_song_id = None\n",
    "    best_match = None\n",
    "    max_sim = 0\n",
    "    for i in songs:\n",
    "        similarity = fuzz.ratio(i, song)\n",
    "        if similarity > max_sim:\n",
    "            max_sim = similarity\n",
    "            best_match = i\n",
    "    follow_up = input(f\"Did you mean '{best_match}'? (type yes or no): \").lower().strip()\n",
    "    if follow_up == 'yes':\n",
    "        print(\"Your song is hot!\")\n",
    "        display(play_song(get_song_id(song)))\n",
    "        display(play_song(get_song_id(pick_rando_song())))\n",
    "    else:\n",
    "        try:\n",
    "            kmeans = load_model()\n",
    "            song_id = get_song_id(song)\n",
    "            song_metadata = sp.track(song_id)\n",
    "            song_name = song_metadata['name']\n",
    "            artist_name = song_metadata['artists'][0]['name']\n",
    "            print(f\"Looks like your song '{song_name}' by {artist_name} is not hot.\")\n",
    "            display(play_song(song_id))\n",
    "            features = get_features(song_id)\n",
    "            cluster = kmeans.predict(features)\n",
    "            cluster_value = cluster[0]\n",
    "            print(f\"Predicted cluster: {cluster_value}\")\n",
    "            rec_song_id = db[db['cluster'] == cluster_value].sample()['id'].iloc[0]\n",
    "            print(\"Here’s a recommendation for you:\")\n",
    "            display(play_song(rec_song_id))\n",
    "        except Exception as e:\n",
    "            print(f\"Whoops, something went wrong: {e}\")\n"
   ]
  },
  {
   "cell_type": "code",
   "execution_count": 81,
   "id": "b03fa7aa-e73a-46eb-8f53-f251b9737238",
   "metadata": {},
   "outputs": [
    {
     "name": "stdin",
     "output_type": "stream",
     "text": [
      "Please enter the title of a song you like: complicated\n"
     ]
    },
    {
     "name": "stdout",
     "output_type": "stream",
     "text": [
      "Spotify found the song: 'complicated'\n",
      "Your song 'complicated' by Avril Lavigne is not hot.\n"
     ]
    },
    {
     "data": {
      "text/html": [
       "\n",
       "        <iframe\n",
       "            width=\"320\"\n",
       "            height=\"80\"\n",
       "            src=\"https://open.spotify.com/embed/track/5xEM5hIgJ1jjgcEBfpkt2F?frameborder=0&allowtransparency=true&allow=encrypted-media\"\n",
       "            frameborder=\"0\"\n",
       "            allowfullscreen\n",
       "            \n",
       "        ></iframe>\n",
       "        "
      ],
      "text/plain": [
       "<IPython.lib.display.IFrame at 0x7fb701a5e6a0>"
      ]
     },
     "metadata": {},
     "output_type": "display_data"
    },
    {
     "name": "stdout",
     "output_type": "stream",
     "text": [
      "Predicted cluster: 9\n",
      "Here’s a recommendation for you:\n"
     ]
    },
    {
     "data": {
      "text/html": [
       "\n",
       "        <iframe\n",
       "            width=\"320\"\n",
       "            height=\"80\"\n",
       "            src=\"https://open.spotify.com/embed/track/3nVuglijxmqA2eb4iFrprH?frameborder=0&allowtransparency=true&allow=encrypted-media\"\n",
       "            frameborder=\"0\"\n",
       "            allowfullscreen\n",
       "            \n",
       "        ></iframe>\n",
       "        "
      ],
      "text/plain": [
       "<IPython.lib.display.IFrame at 0x7fb7428b5eb0>"
      ]
     },
     "metadata": {},
     "output_type": "display_data"
    }
   ],
   "source": [
    "\n",
    "sp = spotipy.Spotify(auth_manager=SpotifyClientCredentials(client_id=client_id, client_secret=client_secret))\n",
    "\n",
    "db = pd.read_csv(\"/Users/reppmazc/Documents/IRONHACK/quests/song_recommender/song_database_scaled_clustered.csv\")\n",
    "top_100 = pd.read_csv(\"/Users/reppmazc/Documents/IRONHACK/quests/song_recommender/top_100.csv\")\n",
    "\n",
    "#----------\n",
    "# functions\n",
    "#----------\n",
    "def normalize_title(title):\n",
    "    title = title.lower().strip()\n",
    "    title = re.sub(r'[^\\w\\s]', '', title)\n",
    "    return title\n",
    "\n",
    "top_100['song_title_normalized'] = top_100['song_title'].apply(normalize_title)\n",
    "song_normalized = normalize_title(song)\n",
    "\n",
    "def get_song_id(song):\n",
    "    result = sp.search(q=f\"{song}\", limit=1)\n",
    "    song_id = result[\"tracks\"][\"items\"][0][\"id\"]\n",
    "    return song_id\n",
    "\n",
    "def play_song(track_id):\n",
    "    return IFrame(src=\"https://open.spotify.com/embed/track/\"+track_id,\n",
    "       width=\"320\",\n",
    "       height=\"80\",\n",
    "       frameborder=\"0\",\n",
    "       allowtransparency=\"true\",\n",
    "       allow=\"encrypted-media\")\n",
    "\n",
    "def load_model():\n",
    "    with open(\"kmeans_model.pkl\", \"rb\") as f:\n",
    "        kmeans = pickle.load(f)\n",
    "    return kmeans\n",
    "\n",
    "def pick_rando_song():\n",
    "    rec_song = random.choice(songs)\n",
    "    rec_artist = top_100.query(\"song_title == @rec_song\")['artist'].iloc[0]\n",
    "    search = f\"{rec_song} by {rec_artist}\"\n",
    "    print(f\"Here is another hot song: {rec_song} by {rec_artist}\")\n",
    "    return search\n",
    "\n",
    "def get_features(song_id):\n",
    "    features = sp.audio_features(song_id)\n",
    "    features_df = pd.DataFrame(features)\n",
    "    drop_columns = [\"liveness\", \"loudness\", \"speechiness\", \"tempo\", \"danceability\",\n",
    "                    \"uri\", \"track_href\", \"analysis_url\", \"duration_ms\", \n",
    "                    \"time_signature\", \"Unnamed: 0\", \"type\"]\n",
    "    features_df = features_df.drop(columns=[col for col in drop_columns if col in features_df.columns], errors='ignore')\n",
    "    features_df = features_df.dropna()\n",
    "    features_df['id'] = features_df['id'].astype(str)\n",
    "    features_df.set_index(\"id\", inplace=True)\n",
    "    with open('scaler.pkl', 'rb') as file:\n",
    "        loaded_scaler = pickle.load(file)\n",
    "    scaled_features = loaded_scaler.transform(features_df)\n",
    "    scaled_features_df = pd.DataFrame(scaled_features, columns=features_df.columns, index=features_df.index)\n",
    "    return scaled_features_df\n",
    "\n",
    "#-------------------------------------\n",
    "# getting user input and formatting it\n",
    "#-------------------------------------\n",
    "song = input('Please enter the title of a song you like:')\n",
    "song = song.title().strip()\n",
    "songs = top_100['song_title'].values.tolist()\n",
    "\n",
    "#--------------------------------------\n",
    "# giving out hot song or recommendation\n",
    "#--------------------------------------\n",
    "try:\n",
    "    if song_normalized in top_100['song_title_normalized'].values:\n",
    "        print(f\"Your song '{song}' is hot!\")\n",
    "        display(play_song(get_song_id(song)))\n",
    "        display(play_song(get_song_id(pick_rando_song())))\n",
    "    else:\n",
    "        song_id = get_song_id(song)\n",
    "        if song_id:\n",
    "            song_metadata = sp.track(song_id)\n",
    "            spotify_title = normalize_title(song_metadata['name'])\n",
    "            print(f\"Spotify found the song: '{spotify_title}'\")\n",
    "            if spotify_title in top_100['song_title_normalized'].values:\n",
    "                print(f\"Your song '{spotify_title}' is hot!\")\n",
    "                display(play_song(song_id))\n",
    "                display(play_song(get_song_id(pick_rando_song())))\n",
    "            else:\n",
    "                artist_name = song_metadata['artists'][0]['name']\n",
    "                print(f\"Your song '{spotify_title}' by {artist_name} is not hot.\")\n",
    "                display(play_song(song_id))\n",
    "                features = get_features(song_id)\n",
    "                kmeans = load_model()\n",
    "                cluster = kmeans.predict(features)\n",
    "                cluster_value = cluster[0]\n",
    "                print(f\"Predicted cluster: {cluster_value}\")\n",
    "                rec_song_id = db[db['cluster'] == cluster_value].sample()['id'].iloc[0]\n",
    "                print(\"Here’s a recommendation for you:\")\n",
    "                display(play_song(rec_song_id))\n",
    "        else:\n",
    "            print(f\"Sorry, we couldn't find '{song}' on Spotify.\")\n",
    "except Exception as e:\n",
    "    print(f\"Whoops, something went wrong: {e}\")"
   ]
  }
 ],
 "metadata": {
  "kernelspec": {
   "display_name": "Python 3 (ipykernel)",
   "language": "python",
   "name": "python3"
  },
  "language_info": {
   "codemirror_mode": {
    "name": "ipython",
    "version": 3
   },
   "file_extension": ".py",
   "mimetype": "text/x-python",
   "name": "python",
   "nbconvert_exporter": "python",
   "pygments_lexer": "ipython3",
   "version": "3.9.19"
  }
 },
 "nbformat": 4,
 "nbformat_minor": 5
}
